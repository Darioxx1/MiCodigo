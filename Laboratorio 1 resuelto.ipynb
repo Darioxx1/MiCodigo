{
 "cells": [
  {
   "cell_type": "code",
   "execution_count": 9,
   "id": "30309659",
   "metadata": {},
   "outputs": [],
   "source": [
    "import matplotlib.pyplot as plt\n",
    "import numpy as np\n",
    "import pandas as pd"
   ]
  },
  {
   "cell_type": "markdown",
   "id": "71104888",
   "metadata": {},
   "source": [
    "1. Construir 3 gráficos de línea a partir de un array creado con la función linspace. \n",
    "    a. Uno que represente una curva lineal\n",
    "    b. Otro que represente una curva exponencial\n",
    "    c. Un tercero que represente una curva logarítmica."
   ]
  },
  {
   "cell_type": "code",
   "execution_count": 5,
   "id": "a02307dc",
   "metadata": {},
   "outputs": [],
   "source": [
    "#Creo el array con la función linspace\n",
    "x = np.linspace(0,50,100)"
   ]
  },
  {
   "cell_type": "code",
   "execution_count": 7,
   "id": "2de2df59",
   "metadata": {},
   "outputs": [
    {
     "data": {
      "text/plain": [
       "[<matplotlib.lines.Line2D at 0x27c8b29e040>]"
      ]
     },
     "execution_count": 7,
     "metadata": {},
     "output_type": "execute_result"
    },
    {
     "data": {
      "image/png": "[encoded data removed]",
      "text/plain": [
       "<Figure size 432x288 with 1 Axes>"
      ]
     },
     "metadata": {
      "needs_background": "light"
     },
     "output_type": "display_data"
    }
   ],
   "source": [
    "#a. Curva lineal\n",
    "y = 2 *  x\n",
    "plt.plot(x,y)\n",
    "\n",
    "# Opción 2\n",
    "# plt.plot(x,2 * x)"
   ]
  },
  {
   "cell_type": "code",
   "execution_count": 8,
   "id": "3e99b380",
   "metadata": {},
   "outputs": [
    {
     "data": {
      "text/plain": [
       "[<matplotlib.lines.Line2D at 0x27c8b2ff070>]"
      ]
     },
     "execution_count": 8,
     "metadata": {},
     "output_type": "execute_result"
    },
    {
     "data": {
      "image/png": "[encoded data removed]",
      "text/plain": [
       "<Figure size 432x288 with 1 Axes>"
      ]
     },
     "metadata": {
      "needs_background": "light"
     },
     "output_type": "display_data"
    }
   ],
   "source": [
    "#b. Curva exponencial\n",
    "y = x ** 2\n",
    "plt.plot(x,y)\n",
    "\n",
    "# Opción 2\n",
    "# plt.plot(x,x ** 2)"
   ]
  },
  {
   "cell_type": "code",
   "execution_count": 10,
   "id": "d2679705",
   "metadata": {},
   "outputs": [
    {
     "name": "stderr",
     "output_type": "stream",
     "text": [
      "<ipython-input-10-e60eaef1a127>:2: RuntimeWarning: divide by zero encountered in log\n",
      "  y = np.log(x)\n"
     ]
    },
    {
     "data": {
      "text/plain": [
       "[<matplotlib.lines.Line2D at 0x27c8b3868b0>]"
      ]
     },
     "execution_count": 10,
     "metadata": {},
     "output_type": "execute_result"
    },
    {
     "data": {
      "image/png": "[encoded data removed]",
      "text/plain": [
       "<Figure size 432x288 with 1 Axes>"
      ]
     },
     "metadata": {
      "needs_background": "light"
     },
     "output_type": "display_data"
    }
   ],
   "source": [
    "#b. Curva logarítmica\n",
    "y = np.log(x)\n",
    "plt.plot(x,y)\n",
    "\n",
    "# Opción 2\n",
    "# plt.plot(x,np.log(x))"
   ]
  },
  {
   "cell_type": "markdown",
   "id": "8a78e615",
   "metadata": {},
   "source": [
    "2. Construir un gráfico que muestre la evolución del tipo de cambio en dólares, de acuerdo a los datos contenidos en el archivo \"Evolucion cotizacion dolar.csv\". Para ello deberás:\n",
    "    a. Adecuar los tipos de datos debiendo quedar como fecha y decimal las respectivas columnas.\n",
    "    b. Plotear el gráfico mostrando el Tipo de Cambio en función de la fecha."
   ]
  },
  {
   "cell_type": "code",
   "execution_count": 10,
   "id": "28b0f40a",
   "metadata": {},
   "outputs": [
    {
     "data": {
      "text/html": [
       "<div>\n",
       "<style scoped>\n",
       "    .dataframe tbody tr th:only-of-type {\n",
       "        vertical-align: middle;\n",
       "    }\n",
       "\n",
       "    .dataframe tbody tr th {\n",
       "        vertical-align: top;\n",
       "    }\n",
       "\n",
       "    .dataframe thead th {\n",
       "        text-align: right;\n",
       "    }\n",
       "</style>\n",
       "<table border=\"1\" class=\"dataframe\">\n",
       "  <thead>\n",
       "    <tr style=\"text-align: right;\">\n",
       "      <th></th>\n",
       "      <th>Fecha</th>\n",
       "      <th>Tipo de cambio</th>\n",
       "    </tr>\n",
       "  </thead>\n",
       "  <tbody>\n",
       "    <tr>\n",
       "      <th>0</th>\n",
       "      <td>2/1/2020</td>\n",
       "      <td>59,8518</td>\n",
       "    </tr>\n",
       "    <tr>\n",
       "      <th>1</th>\n",
       "      <td>3/1/2020</td>\n",
       "      <td>59,8335</td>\n",
       "    </tr>\n",
       "    <tr>\n",
       "      <th>2</th>\n",
       "      <td>6/1/2020</td>\n",
       "      <td>59,819</td>\n",
       "    </tr>\n",
       "    <tr>\n",
       "      <th>3</th>\n",
       "      <td>7/1/2020</td>\n",
       "      <td>59,8195</td>\n",
       "    </tr>\n",
       "    <tr>\n",
       "      <th>4</th>\n",
       "      <td>8/1/2020</td>\n",
       "      <td>59,8177</td>\n",
       "    </tr>\n",
       "    <tr>\n",
       "      <th>...</th>\n",
       "      <td>...</td>\n",
       "      <td>...</td>\n",
       "    </tr>\n",
       "    <tr>\n",
       "      <th>411</th>\n",
       "      <td>14/9/2021</td>\n",
       "      <td>98,22</td>\n",
       "    </tr>\n",
       "    <tr>\n",
       "      <th>412</th>\n",
       "      <td>15/9/2021</td>\n",
       "      <td>98,245</td>\n",
       "    </tr>\n",
       "    <tr>\n",
       "      <th>413</th>\n",
       "      <td>16/9/2021</td>\n",
       "      <td>98,3117</td>\n",
       "    </tr>\n",
       "    <tr>\n",
       "      <th>414</th>\n",
       "      <td>17/9/2021</td>\n",
       "      <td>98,3483</td>\n",
       "    </tr>\n",
       "    <tr>\n",
       "      <th>415</th>\n",
       "      <td>20/9/2021</td>\n",
       "      <td>98,4817</td>\n",
       "    </tr>\n",
       "  </tbody>\n",
       "</table>\n",
       "<p>416 rows × 2 columns</p>\n",
       "</div>"
      ],
      "text/plain": [
       "         Fecha Tipo de cambio\n",
       "0     2/1/2020        59,8518\n",
       "1     3/1/2020        59,8335\n",
       "2     6/1/2020         59,819\n",
       "3     7/1/2020        59,8195\n",
       "4     8/1/2020        59,8177\n",
       "..         ...            ...\n",
       "411  14/9/2021          98,22\n",
       "412  15/9/2021         98,245\n",
       "413  16/9/2021        98,3117\n",
       "414  17/9/2021        98,3483\n",
       "415  20/9/2021        98,4817\n",
       "\n",
       "[416 rows x 2 columns]"
      ]
     },
     "execution_count": 10,
     "metadata": {},
     "output_type": "execute_result"
    }
   ],
   "source": [
    "df = pd.read_csv(\"Evolucion cotizacion dolar.csv\", delimiter=\";\")\n",
    "df"
   ]
  },
  {
   "cell_type": "code",
   "execution_count": 13,
   "id": "3e7d38ef",
   "metadata": {},
   "outputs": [
    {
     "data": {
      "text/plain": [
       "[<matplotlib.lines.Line2D at 0x1beeb20b5e0>]"
      ]
     },
     "execution_count": 13,
     "metadata": {},
     "output_type": "execute_result"
    },
    {
     "data": {
      "image/png": "[encoded data removed]",
      "text/plain": [
       "<Figure size 432x288 with 1 Axes>"
      ]
     },
     "metadata": {
      "needs_background": "light"
     },
     "output_type": "display_data"
    }
   ],
   "source": [
    "# Cambio el valor a fecha\n",
    "Fechas = df[\"Fecha\"]\n",
    "Fechas =  pd.to_datetime(df[\"Fecha\"]).dt.strftime('%d-%m-%Y')\n",
    "\n",
    "# Cambio el valor a decimal (float)\n",
    "TC = df[\"Tipo de cambio\"].str.replace(\",\",\".\")\n",
    "TC = TC.astype(float)\n",
    "\n",
    "\n",
    "plt.plot(Fechas, TC)"
   ]
  },
  {
   "cell_type": "code",
   "execution_count": null,
   "id": "6ae5e950",
   "metadata": {},
   "outputs": [],
   "source": []
  }
 ],
 "metadata": {
  "kernelspec": {
   "display_name": "Python 3",
   "language": "python",
   "name": "python3"
  },
  "language_info": {
   "codemirror_mode": {
    "name": "ipython",
    "version": 3
   },
   "file_extension": ".py",
   "mimetype": "text/x-python",
   "name": "python",
   "nbconvert_exporter": "python",
   "pygments_lexer": "ipython3",
   "version": "3.8.8"
  }
 },
 "nbformat": 4,
 "nbformat_minor": 5
}
